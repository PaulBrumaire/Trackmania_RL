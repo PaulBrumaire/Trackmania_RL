{
 "cells": [
  {
   "cell_type": "code",
   "execution_count": 1,
   "metadata": {},
   "outputs": [],
   "source": [
    "import socket\n",
    "import threading\n",
    "from getData import get_data\n",
    "from time import sleep"
   ]
  },
  {
   "cell_type": "code",
   "execution_count": 25,
   "metadata": {},
   "outputs": [],
   "source": [
    "def data_getter_function():\n",
    "    global data\n",
    "    with socket.socket(socket.AF_INET, socket.SOCK_STREAM) as s:\n",
    "        s.connect((\"127.0.0.1\", 9000))\n",
    "        while True:\n",
    "            data = get_data(s)\n",
    "\n",
    "\n",
    "data_getter_thread = threading.Thread(target=data_getter_function, daemon=True)\n",
    "data_getter_thread.start()\n",
    "sleep(0.1)"
   ]
  },
  {
   "cell_type": "code",
   "execution_count": 22,
   "metadata": {},
   "outputs": [],
   "source": [
    "from PIL import Image\n",
    "from screenshot import screenshot\n",
    "from getLidar import getMesuresDistances"
   ]
  },
  {
   "cell_type": "code",
   "execution_count": 26,
   "metadata": {},
   "outputs": [],
   "source": [
    "def getInfos():\n",
    "    speed = data['speed']\n",
    "    finish = data['finish']\n",
    "    # screenshot\n",
    "    frame = Image.fromarray(screenshot())\n",
    "    # get distances\n",
    "    distances = getMesuresDistances(frame)\n",
    "    return distances, speed, finish"
   ]
  },
  {
   "cell_type": "code",
   "execution_count": 5,
   "metadata": {},
   "outputs": [],
   "source": [
    "from gym import Env\n",
    "from gym.spaces import Discrete, Box, Tuple\n",
    "import numpy as np\n",
    "\n",
    "from driver import controlKeySimple, reloadKey, releaseAllKeys"
   ]
  },
  {
   "cell_type": "code",
   "execution_count": 6,
   "metadata": {},
   "outputs": [],
   "source": [
    "nb_lidar = 11\n",
    "race_step = 800"
   ]
  },
  {
   "cell_type": "code",
   "execution_count": 7,
   "metadata": {},
   "outputs": [],
   "source": [
    "class TMEnvDistances(Env):\n",
    "    def __init__(self):\n",
    "        # Actions we can take\n",
    "        self.action_space = Discrete(4)\n",
    "        # Speed [{0:1000}]\n",
    "        self.observation_space = Box(low=0, high=400, shape=(nb_lidar,))\n",
    "        # Set start speed\n",
    "        self.state = [0]*nb_lidar\n",
    "        self.speed = 0\n",
    "        # Set race length\n",
    "        self.race_length = race_step\n",
    "\n",
    "    def step(self, action):\n",
    "        # Make ingame action \n",
    "        controlKeySimple(action)\n",
    "        # Get data from game\n",
    "        n_distances, n_speed, n_finish = getInfos()\n",
    "        # Reduce race length by 1 second\n",
    "        self.race_length -= 1 \n",
    "        # Calculate reward\n",
    "        reward = 0\n",
    "        reward += n_speed - self.speed\n",
    "        # Save speed\n",
    "        self.speed = n_speed\n",
    "        self.state = n_distances\n",
    "        # Check if race is done\n",
    "        if self.race_length <= 0 or n_finish: \n",
    "            done = True\n",
    "            reward += (self.race_length)*100\n",
    "            # Restart game\n",
    "            reloadKey()\n",
    "        else:\n",
    "            done = False\n",
    "        \n",
    "        # Set placeholder for info\n",
    "        info = {}\n",
    "        \n",
    "        # Return step information\n",
    "        return np.concatenate(( [self.speed],self.state)), reward, done, info\n",
    "\n",
    "    def render(self):\n",
    "        # The game is the visual representation\n",
    "        # Maybe save lidar screenshot ?\n",
    "        pass\n",
    "    \n",
    "    def reset(self):\n",
    "        # Restart the game\n",
    "        releaseAllKeys()\n",
    "        reloadKey()\n",
    "        # Reset speed\n",
    "        self.state = [0]*nb_lidar\n",
    "        self.speed = 0\n",
    "        # Reset race time\n",
    "        self.race_length = race_step\n",
    "        return np.concatenate(( [self.speed],self.state))"
   ]
  },
  {
   "cell_type": "code",
   "execution_count": 13,
   "metadata": {},
   "outputs": [
    {
     "name": "stdout",
     "output_type": "stream",
     "text": [
      "States shape (12,)\n",
      "Actions shape 4\n"
     ]
    }
   ],
   "source": [
    "env = TMEnvDistances()\n",
    "states = (env.observation_space.shape[0]+1,)\n",
    "actions = env.action_space.n\n",
    "print(\"States shape\",states)\n",
    "print(\"Actions shape\",actions)"
   ]
  },
  {
   "cell_type": "code",
   "execution_count": 14,
   "metadata": {},
   "outputs": [],
   "source": [
    "from tensorflow.keras.models import Sequential\n",
    "from tensorflow.keras.layers import Dense, Flatten, Reshape\n",
    "from tensorflow.keras.optimizers import Adam"
   ]
  },
  {
   "cell_type": "code",
   "execution_count": 15,
   "metadata": {},
   "outputs": [],
   "source": [
    "def build_model(states, actions):\n",
    "    model = Sequential()\n",
    "    model.add(Flatten(input_shape=(1,states[0])))\n",
    "    model.add(Dense(24, activation='relu', input_shape=states))\n",
    "    model.add(Dense(24, activation='relu'))\n",
    "    model.add(Dense(actions, activation='sigmoid'))\n",
    "    return model"
   ]
  },
  {
   "cell_type": "code",
   "execution_count": 16,
   "metadata": {},
   "outputs": [],
   "source": [
    "from rl.agents import DQNAgent\n",
    "from rl.policy import BoltzmannQPolicy\n",
    "from rl.memory import SequentialMemory"
   ]
  },
  {
   "cell_type": "code",
   "execution_count": 17,
   "metadata": {},
   "outputs": [],
   "source": [
    "def build_agent(model, actions):\n",
    "\n",
    "    policy = BoltzmannQPolicy()\n",
    "    memory = SequentialMemory(limit=50000, window_length=1)\n",
    "    dqn = DQNAgent(model=model, memory=memory, policy=policy, \n",
    "                  nb_actions=actions, nb_steps_warmup=100, target_model_update=1e-1)\n",
    "    return dqn"
   ]
  },
  {
   "cell_type": "code",
   "execution_count": 18,
   "metadata": {},
   "outputs": [
    {
     "name": "stdout",
     "output_type": "stream",
     "text": [
      "Model: \"sequential\"\n",
      "_________________________________________________________________\n",
      "Layer (type)                 Output Shape              Param #   \n",
      "=================================================================\n",
      "flatten (Flatten)            (None, 12)                0         \n",
      "_________________________________________________________________\n",
      "dense (Dense)                (None, 24)                312       \n",
      "_________________________________________________________________\n",
      "dense_1 (Dense)              (None, 24)                600       \n",
      "_________________________________________________________________\n",
      "dense_2 (Dense)              (None, 4)                 100       \n",
      "=================================================================\n",
      "Total params: 1,012\n",
      "Trainable params: 1,012\n",
      "Non-trainable params: 0\n",
      "_________________________________________________________________\n"
     ]
    }
   ],
   "source": [
    "model = build_model(states, actions)\n",
    "model.summary()"
   ]
  },
  {
   "cell_type": "code",
   "execution_count": 27,
   "metadata": {},
   "outputs": [
    {
     "name": "stdout",
     "output_type": "stream",
     "text": [
      "Training for 50000 steps ...\n",
      "Interval 1 (0 steps performed)\n",
      "10000/10000 [==============================] - 300s 30ms/step - reward: 0.0061\n",
      "12 episodes - episode_reward: 4.859 [0.404, 11.545] - loss: 0.642 - mae: 0.697 - mean_q: 1.000\n",
      "\n",
      "Interval 2 (10000 steps performed)\n",
      "10000/10000 [==============================] - 300s 30ms/step - reward: 0.0029\n",
      "13 episodes - episode_reward: 2.435 [0.380, 5.340] - loss: 0.361 - mae: 0.897 - mean_q: 1.000\n",
      "\n",
      "Interval 3 (20000 steps performed)\n",
      "10000/10000 [==============================] - 309s 31ms/step - reward: 0.0036\n",
      "12 episodes - episode_reward: 2.863 [0.022, 5.721] - loss: 0.383 - mae: 0.905 - mean_q: 1.000\n",
      "\n",
      "Interval 4 (30000 steps performed)\n",
      "10000/10000 [==============================] - 311s 31ms/step - reward: 0.0047\n",
      "13 episodes - episode_reward: 3.763 [0.736, 11.214] - loss: 0.384 - mae: 0.911 - mean_q: 1.000\n",
      "\n",
      "Interval 5 (40000 steps performed)\n",
      "10000/10000 [==============================] - 290s 29ms/step - reward: 0.0037\n",
      "done, took 1510.815 seconds\n"
     ]
    }
   ],
   "source": [
    "dqn = build_agent(model, actions)\n",
    "dqn.compile(Adam(lr=1e-3), metrics=['mae'])\n",
    "sleep(2)\n",
    "dqn.fit(env, nb_steps=50000, visualize=False, verbose=1)\n",
    "\n",
    "releaseAllKeys()"
   ]
  },
  {
   "cell_type": "code",
   "execution_count": 29,
   "metadata": {},
   "outputs": [
    {
     "name": "stdout",
     "output_type": "stream",
     "text": [
      "Testing for 5 episodes ...\n",
      "Episode 1: reward: 99.790, steps: 800\n",
      "Episode 2: reward: 6300.065, steps: 738\n",
      "Episode 3: reward: 99.921, steps: 800\n",
      "Episode 4: reward: 99.793, steps: 800\n",
      "Episode 5: reward: 99.921, steps: 800\n",
      "1339.8981996154785\n"
     ]
    }
   ],
   "source": [
    "releaseAllKeys()\n",
    "sleep(2)\n",
    "scores = dqn.test(env, nb_episodes=5, visualize=False)\n",
    "print(np.mean(scores.history['episode_reward']))\n",
    "releaseAllKeys()"
   ]
  },
  {
   "cell_type": "code",
   "execution_count": 30,
   "metadata": {},
   "outputs": [],
   "source": [
    "dqn.save_weights('w_speeddistances.h5f', overwrite=True) "
   ]
  },
  {
   "cell_type": "code",
   "execution_count": 31,
   "metadata": {},
   "outputs": [],
   "source": [
    "del model\n",
    "del dqn\n",
    "del env"
   ]
  },
  {
   "cell_type": "code",
   "execution_count": 35,
   "metadata": {},
   "outputs": [],
   "source": [
    "env = TMEnvDistances()\n",
    "actions = env.action_space.n\n",
    "states = (env.observation_space.shape[0]+1,)\n",
    "model = build_model(states, actions)\n",
    "dqn = build_agent(model, actions)\n",
    "dqn.compile(Adam(lr=1e-3), metrics=['mae'])"
   ]
  },
  {
   "cell_type": "code",
   "execution_count": 36,
   "metadata": {},
   "outputs": [],
   "source": [
    "dqn.load_weights('w_speeddistances.h5f')"
   ]
  },
  {
   "cell_type": "code",
   "execution_count": 38,
   "metadata": {},
   "outputs": [
    {
     "name": "stdout",
     "output_type": "stream",
     "text": [
      "Testing for 1 episodes ...\n",
      "Episode 1: reward: 100.090, steps: 800\n",
      "100.08958969116212\n"
     ]
    }
   ],
   "source": [
    "releaseAllKeys()\n",
    "sleep(2)\n",
    "scores = dqn.test(env, nb_episodes=1, visualize=False)\n",
    "print(np.mean(scores.history['episode_reward']))\n",
    "releaseAllKeys()"
   ]
  }
 ],
 "metadata": {
  "interpreter": {
   "hash": "c6296e6df002d8ee94740c040cf7fbcb506368b73fc1e1ce599e30449f0456fa"
  },
  "kernelspec": {
   "display_name": "Python 3.8.5 64-bit ('base': conda)",
   "language": "python",
   "name": "python3"
  },
  "language_info": {
   "codemirror_mode": {
    "name": "ipython",
    "version": 3
   },
   "file_extension": ".py",
   "mimetype": "text/x-python",
   "name": "python",
   "nbconvert_exporter": "python",
   "pygments_lexer": "ipython3",
   "version": "3.8.5"
  },
  "orig_nbformat": 4
 },
 "nbformat": 4,
 "nbformat_minor": 2
}
