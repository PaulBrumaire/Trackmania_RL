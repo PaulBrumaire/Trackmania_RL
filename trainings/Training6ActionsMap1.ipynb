{
 "cells": [
  {
   "cell_type": "code",
   "execution_count": null,
   "metadata": {},
   "outputs": [],
   "source": [
    "import socket\n",
    "import threading\n",
    "from getData import get_data\n",
    "from time import sleep, time\n",
    "import utils"
   ]
  },
  {
   "cell_type": "code",
   "execution_count": null,
   "metadata": {},
   "outputs": [],
   "source": [
    "def data_getter_function():\n",
    "    global data\n",
    "    with socket.socket(socket.AF_INET, socket.SOCK_STREAM) as s:\n",
    "        s.connect((\"127.0.0.1\", 9000))\n",
    "        while True:\n",
    "            data = get_data(s)\n",
    "\n",
    "\n",
    "data_getter_thread = threading.Thread(target=data_getter_function, daemon=True)\n",
    "data_getter_thread.start()\n",
    "sleep(0.1)"
   ]
  },
  {
   "cell_type": "code",
   "execution_count": null,
   "metadata": {},
   "outputs": [],
   "source": [
    "from PIL import Image\n",
    "from screenshot import screenshot\n",
    "from getLidar import getMesuresDistances"
   ]
  },
  {
   "cell_type": "code",
   "execution_count": null,
   "metadata": {},
   "outputs": [],
   "source": [
    "def getInfos():\n",
    "    speed = data['speed']\n",
    "    finish = data['finish']\n",
    "    # screenshot\n",
    "    frame = Image.fromarray(screenshot())\n",
    "    # get distances\n",
    "    distances = getMesuresDistances(frame)\n",
    "    return distances, speed, finish"
   ]
  },
  {
   "cell_type": "code",
   "execution_count": null,
   "metadata": {},
   "outputs": [],
   "source": [
    "from gym import Env\n",
    "from gym.spaces import Discrete, Box, Tuple\n",
    "import numpy as np\n",
    "\n",
    "from driver import controlKeySmooth, reloadKey, releaseAllKeys, saveReplay, saveReplay2"
   ]
  },
  {
   "cell_type": "code",
   "execution_count": null,
   "metadata": {},
   "outputs": [],
   "source": [
    "nb_lidar = 11\n",
    "race_step = 400"
   ]
  },
  {
   "cell_type": "code",
   "execution_count": null,
   "metadata": {},
   "outputs": [],
   "source": [
    "class TMEnvDistances(Env):\n",
    "    def __init__(self):\n",
    "        # Actions we can take\n",
    "        self.action_space = Discrete(6)\n",
    "        # Speed [{0:1000}]\n",
    "        self.observation_space = Box(low=0, high=400, shape=(nb_lidar,))\n",
    "        # Set start speed\n",
    "        self.state = [100]*nb_lidar\n",
    "        self.speed = 0\n",
    "        # Set race length\n",
    "        self.race_length = race_step\n",
    "\n",
    "    def step(self, action):\n",
    "        # Make ingame action \n",
    "        controlKeySmooth(action)\n",
    "        # Get data from game\n",
    "        n_distances, n_speed, n_finish = getInfos()\n",
    "        # Reduce race length by 1 second\n",
    "        self.race_length -= 1 \n",
    "        # Calculate reward\n",
    "        reward = 0\n",
    "        reward += n_speed# - self.speed - 10\n",
    "        # Save speed\n",
    "        self.speed = n_speed\n",
    "        self.state = n_distances\n",
    "        # Check if race is done\n",
    "        if self.race_length <= 0:\n",
    "            done = True\n",
    "            # saveReplay()\n",
    "            # sleep(1)\n",
    "        elif n_finish:\n",
    "            reward += (self.race_length)*100\n",
    "            done = True\n",
    "            sleep(3)\n",
    "            # saveReplay2()\n",
    "            # sleep(0.5)\n",
    "        else:\n",
    "            done = False\n",
    "\n",
    "        # Set placeholder for info\n",
    "        info = {}\n",
    "        sleep(0.05)\n",
    "        # Return step information\n",
    "        return self.state, reward, done, info\n",
    "\n",
    "    def render(self):\n",
    "        # The game is the visual representation\n",
    "        pass\n",
    "    \n",
    "    def reset(self):\n",
    "        # Restart the game\n",
    "        releaseAllKeys()\n",
    "        reloadKey()\n",
    "        sleep(1)\n",
    "        # Reset speed\n",
    "        self.state = [100]*nb_lidar\n",
    "        self.speed = 0\n",
    "        # Reset race time\n",
    "        self.race_length = race_step\n",
    "        return self.state"
   ]
  },
  {
   "cell_type": "code",
   "execution_count": null,
   "metadata": {},
   "outputs": [],
   "source": [
    "env = TMEnvDistances()\n",
    "np.random.seed(123)\n",
    "env.seed(123)\n",
    "states = env.observation_space.shape\n",
    "actions = env.action_space.n\n",
    "print(\"States shape\",states)\n",
    "print(\"Actions shape\",actions)"
   ]
  },
  {
   "cell_type": "code",
   "execution_count": null,
   "metadata": {},
   "outputs": [],
   "source": [
    "model = utils.build_model(states, actions)\n",
    "model.summary()"
   ]
  },
  {
   "cell_type": "code",
   "execution_count": null,
   "metadata": {},
   "outputs": [],
   "source": [
    "from tensorflow.keras.optimizers import Adam\n",
    "dqn = utils.build_agent(model, actions)\n",
    "dqn.compile(Adam(lr=1e-4), metrics=['mae'])\n",
    "cb_ep_fit = utils.EpisodeLogger()\n",
    "# dqn.get_config()"
   ]
  },
  {
   "cell_type": "code",
   "execution_count": null,
   "metadata": {},
   "outputs": [],
   "source": [
    "sleep(2)\n",
    "scores_fit = dqn.fit(env, nb_steps=100000, visualize=False,\n",
    "                     verbose=2, callbacks=[cb_ep_fit])"
   ]
  },
  {
   "cell_type": "code",
   "execution_count": null,
   "metadata": {},
   "outputs": [],
   "source": [
    "import matplotlib.pyplot as plt\n",
    "\n",
    "plt.plot(scores_fit.history['episode_reward'])\n",
    "plt.xlabel(\"épisodes\")\n",
    "plt.ylabel(\"récompenses\")"
   ]
  },
  {
   "cell_type": "code",
   "execution_count": null,
   "metadata": {},
   "outputs": [],
   "source": [
    "t1 = time()\n",
    "dqn.save_weights('weights/w_distances_'+str(t1)+'.h5f', overwrite=True)"
   ]
  },
  {
   "cell_type": "code",
   "execution_count": null,
   "metadata": {},
   "outputs": [],
   "source": [
    "del model\n",
    "del dqn\n",
    "del env"
   ]
  },
  {
   "cell_type": "code",
   "execution_count": null,
   "metadata": {},
   "outputs": [],
   "source": [
    "env = TMEnvDistances()\n",
    "actions = env.action_space.n\n",
    "states = env.observation_space.shape\n",
    "model = utils.build_model(states, actions)\n",
    "dqn = utils.build_agent(model, actions)\n",
    "dqn.compile(Adam(lr=1e-4), metrics=['mae'])"
   ]
  },
  {
   "cell_type": "code",
   "execution_count": null,
   "metadata": {},
   "outputs": [],
   "source": [
    "dqn.load_weights('weights/w_distances_'+str(t1)+'.h5f')"
   ]
  },
  {
   "cell_type": "code",
   "execution_count": null,
   "metadata": {},
   "outputs": [],
   "source": [
    "sleep(2)\n",
    "cb_ep = utils.EpisodeLoggerTest()\n",
    "scores = dqn.test(env, nb_episodes=5, visualize=False, callbacks=[cb_ep])\n",
    "print(np.mean(scores.history['episode_reward']))\n",
    "\n",
    "releaseAllKeys()"
   ]
  },
  {
   "cell_type": "code",
   "execution_count": null,
   "metadata": {},
   "outputs": [],
   "source": [
    "ep = 0\n",
    "legends = []\n",
    "for obs in cb_ep.rewards.values():\n",
    "    ep += 1\n",
    "    legends.append(\"ep_\"+str(ep))\n",
    "    plt.plot([o for o in utils.sumReward(obs)])\n",
    "plt.legend(legends)\n",
    "plt.xlabel(\"étapes\")\n",
    "plt.ylabel(\"récompenses\")"
   ]
  }
 ],
 "metadata": {
  "interpreter": {
   "hash": "c6296e6df002d8ee94740c040cf7fbcb506368b73fc1e1ce599e30449f0456fa"
  },
  "kernelspec": {
   "display_name": "Python 3.8.5 64-bit ('base': conda)",
   "language": "python",
   "name": "python3"
  },
  "language_info": {
   "codemirror_mode": {
    "name": "ipython",
    "version": 3
   },
   "file_extension": ".py",
   "mimetype": "text/x-python",
   "name": "python",
   "nbconvert_exporter": "python",
   "pygments_lexer": "ipython3",
   "version": "3.8.5"
  },
  "orig_nbformat": 4
 },
 "nbformat": 4,
 "nbformat_minor": 2
}
